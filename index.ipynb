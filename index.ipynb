{
 "cells": [
  {
   "cell_type": "markdown",
   "metadata": {},
   "source": [
    "# Building a Recommendation System in PySpark - Lab\n",
    "\n",
    "## Introduction\n",
    "\n",
    "In this last lab, we will implement a a movie recommendation system using ALS in Spark programming environment. Spark's machine learning libraray `Mllib` comes packaged with a very efficient imeplementation of ALS algorithm that we looked at in our previous lesson. The lab will require you to put into pratice your spark programming skills for creating and manipulating RDDs. We will go through a step-by-step process into developing a movie recommendation system using a larger subset of the MovieLens dataset than the one we used in previous lab.\n",
    "\n",
    "Note: You are advised to refer to [PySpark Documentation](http://spark.apache.org/docs/2.2.0/api/python/index.html) heavily for completing this lab as it will introduce a few new methods. \n",
    "\n",
    "\n",
    "## Objectives\n",
    "\n",
    "You will be able to:\n",
    "\n",
    "* Demonsrate an understanding on how recommendation systems are being used for personalization of online services/products\n",
    "* Parse and filter datasets into Spark RDDs, performing basic feature selection\n",
    "* Run a brief hyper-parameter selction activity through a scalable grid search\n",
    "* Train and evaluate the predictive performance of recommendation system\n",
    "* Generate predictions from the trained model\n"
   ]
  },
  {
   "cell_type": "markdown",
   "metadata": {},
   "source": [
    "## Building a Recommendation System"
   ]
  },
  {
   "cell_type": "markdown",
   "metadata": {},
   "source": [
    "\n",
    "We have seen how recommender/Recommendation Systems have played an  integral parts in the success of Amazon (Books, Items), Pandora/Spotify (Music), Google (News, Search), YouTube (Videos) etc.  For Amazon these systems bring more than 30% of their total revenues. For Netflix service, 75% of movies that people watch are based on some sort of recommendation.\n",
    "\n",
    "> The goal of Recommendation Systems is to find what is likely to be of interest to the user. This enables organizations to offer a high level of personalization and customer tailored services.\n",
    "\n",
    "\n",
    "For online video content services like Netflix and Hulu, the need to build robust movie recommendation systems is extremely important. An example of recommendation system is such as this:\n",
    "\n",
    "1.    User A watches Game of Thrones and Breaking Bad.\n",
    "2.    User B performs a search query for Game of Thrones.\n",
    "3.    The system suggests Breaking Bad to user B from data collected about user A.\n",
    "    \n",
    "<img src=\"https://cdn-images-1.medium.com/max/800/1*Zvwzw_KPRv5bcXPkb6WubA.jpeg\" width=300>\n",
    "\n",
    "\n",
    "This lab will guide you through a step-by-step process into developing such a movie recommendation system. We shall use the MovieLens dataset to build a movie recommendation system using collaborative filtering technique with Spark's Alternating Least Saqures implementation."
   ]
  },
  {
   "cell_type": "markdown",
   "metadata": {},
   "source": [
    "## Stage 1: Data Acquisition and Pre-processing\n",
    "\n",
    "### MovieLens Ratings Dataset\n",
    "\n",
    "Previously we used the 1 million ratings dataset for applying simple SVD in python. \n",
    "\n",
    "For our experiment , we shall use the latest datasets. Grouplens offer the complete ratings dataset and a smaller subset for hyper parameter optmization and model selection. \n",
    "\n",
    "* **Complete Dataset**: 26,000,000 ratings applied to 45,000 movies by 270,000 users. Last updated 8/2017.\n",
    "* **Small Dataset**: 100,000 ratings applied to 9,000 movies by 700 users. Last updated 10/2016.\n",
    "\n",
    "Both these datasets are available in this repo. \n",
    "\n",
    "For this lab, we will use the small dataset `datasets/ms-latest-small/`. The main reason for using this dataset is to speed up computation and focus more on the pyspark programming. You are required to re run the experiment using the larger dataset in `dataset/ml-latest`.\n",
    "\n",
    "* Create a folder `datasets` in your pyspark environment. \n",
    "* Paste the provided ofiles in their respective directories as shown below\n",
    "* We will also keep the complete dataset for later experimentation."
   ]
  },
  {
   "cell_type": "markdown",
   "metadata": {},
   "source": [
    "![](path.png)"
   ]
  },
  {
   "cell_type": "markdown",
   "metadata": {},
   "source": [
    "Let's also import PySpark to our Python environment and and initiate a local SparkContext `sc`."
   ]
  },
  {
   "cell_type": "code",
   "execution_count": 32,
   "metadata": {},
   "outputs": [
    {
     "ename": "ValueError",
     "evalue": "Cannot run multiple SparkContexts at once; existing SparkContext(app=pyspark-shell, master=local[*]) created by __init__ at <ipython-input-1-9d09940a212e>:3 ",
     "output_type": "error",
     "traceback": [
      "\u001b[0;31m\u001b[0m",
      "\u001b[0;31mValueError\u001b[0mTraceback (most recent call last)",
      "\u001b[0;32m<ipython-input-32-a4eeebc5f944>\u001b[0m in \u001b[0;36m<module>\u001b[0;34m\u001b[0m\n\u001b[1;32m      1\u001b[0m \u001b[0;32mimport\u001b[0m \u001b[0mpyspark\u001b[0m\u001b[0;34m\u001b[0m\u001b[0;34m\u001b[0m\u001b[0m\n\u001b[0;32m----> 2\u001b[0;31m \u001b[0msc\u001b[0m \u001b[0;34m=\u001b[0m \u001b[0mpyspark\u001b[0m\u001b[0;34m.\u001b[0m\u001b[0mSparkContext\u001b[0m\u001b[0;34m(\u001b[0m\u001b[0;34m'local[*]'\u001b[0m\u001b[0;34m)\u001b[0m \u001b[0;31m# [*] represents a local context i.e. no cluster\u001b[0m\u001b[0;34m\u001b[0m\u001b[0;34m\u001b[0m\u001b[0m\n\u001b[0m",
      "\u001b[0;32m/usr/local/spark/python/pyspark/context.py\u001b[0m in \u001b[0;36m__init__\u001b[0;34m(self, master, appName, sparkHome, pyFiles, environment, batchSize, serializer, conf, gateway, jsc, profiler_cls)\u001b[0m\n\u001b[1;32m    113\u001b[0m         \"\"\"\n\u001b[1;32m    114\u001b[0m         \u001b[0mself\u001b[0m\u001b[0;34m.\u001b[0m\u001b[0m_callsite\u001b[0m \u001b[0;34m=\u001b[0m \u001b[0mfirst_spark_call\u001b[0m\u001b[0;34m(\u001b[0m\u001b[0;34m)\u001b[0m \u001b[0;32mor\u001b[0m \u001b[0mCallSite\u001b[0m\u001b[0;34m(\u001b[0m\u001b[0;32mNone\u001b[0m\u001b[0;34m,\u001b[0m \u001b[0;32mNone\u001b[0m\u001b[0;34m,\u001b[0m \u001b[0;32mNone\u001b[0m\u001b[0;34m)\u001b[0m\u001b[0;34m\u001b[0m\u001b[0;34m\u001b[0m\u001b[0m\n\u001b[0;32m--> 115\u001b[0;31m         \u001b[0mSparkContext\u001b[0m\u001b[0;34m.\u001b[0m\u001b[0m_ensure_initialized\u001b[0m\u001b[0;34m(\u001b[0m\u001b[0mself\u001b[0m\u001b[0;34m,\u001b[0m \u001b[0mgateway\u001b[0m\u001b[0;34m=\u001b[0m\u001b[0mgateway\u001b[0m\u001b[0;34m,\u001b[0m \u001b[0mconf\u001b[0m\u001b[0;34m=\u001b[0m\u001b[0mconf\u001b[0m\u001b[0;34m)\u001b[0m\u001b[0;34m\u001b[0m\u001b[0;34m\u001b[0m\u001b[0m\n\u001b[0m\u001b[1;32m    116\u001b[0m         \u001b[0;32mtry\u001b[0m\u001b[0;34m:\u001b[0m\u001b[0;34m\u001b[0m\u001b[0;34m\u001b[0m\u001b[0m\n\u001b[1;32m    117\u001b[0m             self._do_init(master, appName, sparkHome, pyFiles, environment, batchSize, serializer,\n",
      "\u001b[0;32m/usr/local/spark/python/pyspark/context.py\u001b[0m in \u001b[0;36m_ensure_initialized\u001b[0;34m(cls, instance, gateway, conf)\u001b[0m\n\u001b[1;32m    312\u001b[0m                         \u001b[0;34m\" created by %s at %s:%s \"\u001b[0m\u001b[0;34m\u001b[0m\u001b[0;34m\u001b[0m\u001b[0m\n\u001b[1;32m    313\u001b[0m                         % (currentAppName, currentMaster,\n\u001b[0;32m--> 314\u001b[0;31m                             callsite.function, callsite.file, callsite.linenum))\n\u001b[0m\u001b[1;32m    315\u001b[0m                 \u001b[0;32melse\u001b[0m\u001b[0;34m:\u001b[0m\u001b[0;34m\u001b[0m\u001b[0;34m\u001b[0m\u001b[0m\n\u001b[1;32m    316\u001b[0m                     \u001b[0mSparkContext\u001b[0m\u001b[0;34m.\u001b[0m\u001b[0m_active_spark_context\u001b[0m \u001b[0;34m=\u001b[0m \u001b[0minstance\u001b[0m\u001b[0;34m\u001b[0m\u001b[0;34m\u001b[0m\u001b[0m\n",
      "\u001b[0;31mValueError\u001b[0m: Cannot run multiple SparkContexts at once; existing SparkContext(app=pyspark-shell, master=local[*]) created by __init__ at <ipython-input-1-9d09940a212e>:3 "
     ]
    }
   ],
   "source": [
    "import pyspark\n",
    "sc = pyspark.SparkContext('local[*]') # [*] represents a local context i.e. no cluster"
   ]
  },
  {
   "cell_type": "markdown",
   "metadata": {},
   "source": [
    "### Dataset Selection, Parsing and Filtering"
   ]
  },
  {
   "cell_type": "markdown",
   "metadata": {},
   "source": [
    "With our SparkContext initialized, and our dataset in an accessible locations, we can now parse the csv files and read them into RDDs. The small dataset contains a number of csv file with features as shown below:  \n",
    "\n",
    "- ratings.csv :**UserID, MovieID, Rating, Timestamp**\n",
    "\n",
    "- movies.csv :**MovieID, Title, Genres > *Genre1|Genre2|Genre3...**\n",
    "\n",
    "- tags.csv :**UserID, MovieID, Tag, Timestamp**\n",
    "\n",
    "- links.csv :**MovieID, ImdbID, TmdbID**\n",
    "\n",
    "We shall focus on `ratings.csv`, and `movies.csv` from small dataset here for building our recommendation system. Other features can be incorporated later for improving the predictive performance of the system.  The format of these files is uniform and simple and such comma delimited files can be easily parsed line by line using Python `split()` once they are loaded as RDDs. \n",
    "\n",
    "Let's parse `ratings.csv` and `movies.csv` files into two RDDs. We also need to filter out the header row in each file containing column names. \n",
    "\n",
    "- For each line in the `ratings.csv`, create a tuple of (UserID, MovieID, Rating). Drop the Timestamp feature. \n",
    "- For each line in the `movies.csv`, Create a tuple of (MovieID, Title). Drop the Genres."
   ]
  },
  {
   "cell_type": "markdown",
   "metadata": {},
   "source": [
    "Set path variables for `ratings` and `movies` csv files. "
   ]
  },
  {
   "cell_type": "code",
   "execution_count": 33,
   "metadata": {},
   "outputs": [],
   "source": [
    "# Create a path for identifying the ratings and movies files in small dataset\n",
    "ratingsPath = 'datasets/ml-latest-small/ratings.csv'\n",
    "moviesPath = 'datasets/ml-latest-small/movies.csv'"
   ]
  },
  {
   "cell_type": "markdown",
   "metadata": {},
   "source": [
    "### Parsing `ratings.csv`\n",
    "\n",
    "- Use `sc.textFile()` to read the raw contents of ratings file into an RDD\n",
    "- Read the contents of ratings file into an RDD and view its first row (Header containing column names)"
   ]
  },
  {
   "cell_type": "code",
   "execution_count": 35,
   "metadata": {},
   "outputs": [
    {
     "data": {
      "text/plain": [
       "'userId,movieId,rating,timestamp'"
      ]
     },
     "execution_count": 35,
     "metadata": {},
     "output_type": "execute_result"
    }
   ],
   "source": [
    "# Use .textFile() to read the raw contents of ratings file into an RDD\n",
    "ratingsRaw = sc.textFile(ratingsPath)\n",
    "\n",
    "# read the first line of this RDD as a header and view header contents\n",
    "ratingsHeader = ratingsRaw.take(1)[0]\n",
    "ratingsHeader"
   ]
  },
  {
   "cell_type": "markdown",
   "metadata": {},
   "source": [
    "We need to filter some of the data at this stage. We can drop the timestamp feature as we won't use that build recommendations. We will parse the raw ratings data into a new RDD and filter out the header row. Perform following transformations on `ratingsRaw`:\n",
    "\n",
    "1. Read `ratingsRaw` contents into a new RDD while using `.filter()` to exclude the header information with `ratinsHeader`.\n",
    "2. Split each line of the csv file using `,` demiliter as the input argument with `split()` function.\n",
    "3. Collect the first three elements of each row (UserID, MovieID, Rating) and discard fourth (timestep) field. Remember to read ratings as `float`. \n",
    "4. Cache the final RDD (Optional) using `RDD.cache()` (optional but help speed up computation with large RDDs).\n",
    "5. Print the total number of recommendations and view first three rows."
   ]
  },
  {
   "cell_type": "code",
   "execution_count": 44,
   "metadata": {},
   "outputs": [
    {
     "data": {
      "text/plain": [
       "100004"
      ]
     },
     "execution_count": 44,
     "metadata": {},
     "output_type": "execute_result"
    }
   ],
   "source": [
    "# Code here\n",
    "ratings = ratingsRaw.filter(lambda line: line != ratingsHeader).map(lambda line: line.split(',')).map(lambda x: (int(x[0]),int(x[1]),float(x[2])))\n",
    "ratings.cache()\n",
    "ratings.count()"
   ]
  },
  {
   "cell_type": "markdown",
   "metadata": {},
   "source": [
    "This looks well in-line with our expectations. Let's do the same for `movies.csv`.\n",
    "\n",
    "### Parsing `movies.csv`\n",
    "\n",
    "We shall now proceed in a similar way with `movies.csv` file. Repeat following steps as performed above:\n",
    "\n",
    "1. Use the path variable for identifying the location of **movies.csv**.\n",
    "2. Read the text file into RDD.\n",
    "3. Exclude the header information.\n",
    "4. Split the line contents of the csv file.\n",
    "5. Read the contents of resulting RDD creating a (MovieID, Title) tuple and discard genres. \n",
    "6. Count number of movies in the final RDD."
   ]
  },
  {
   "cell_type": "code",
   "execution_count": 40,
   "metadata": {},
   "outputs": [
    {
     "data": {
      "text/plain": [
       "[('1', 'Toy Story (1995)'),\n",
       " ('2', 'Jumanji (1995)'),\n",
       " ('3', 'Grumpier Old Men (1995)')]"
      ]
     },
     "execution_count": 40,
     "metadata": {},
     "output_type": "execute_result"
    }
   ],
   "source": [
    "# Code here\n",
    "moviesRaw = sc.textFile(moviesPath)\n",
    "moviesHeader = moviesRaw.take(1)[0]\n",
    "movies = moviesRaw.filter(lambda line: line != moviesHeader).map(lambda line: line.split(',')).map(lambda x: (x[0], x[1]))\\\n",
    "                          .cache()\n",
    "movies.take(3)"
   ]
  },
  {
   "cell_type": "markdown",
   "metadata": {},
   "source": [
    "We now have the two RDDs we created above and we shall use these to build and train our recommendation system. \n",
    "\n",
    "### Saving Pre-Processed Data (optional)\n",
    "\n",
    "We can optionally save our preprocessed datasets now or a later stage to avoid reading and re-processing large files repeatedly. Create a folder \"pre_processed\" and save `movieRDD` and `ratingsRDD` using `RDD.saveAsTExtFile(filename)`. "
   ]
  },
  {
   "cell_type": "code",
   "execution_count": null,
   "metadata": {},
   "outputs": [],
   "source": [
    "# Code here\n"
   ]
  },
  {
   "cell_type": "markdown",
   "metadata": {},
   "source": [
    "These files can be read back using `sc.textfile()` method that we saw earlier. "
   ]
  },
  {
   "cell_type": "markdown",
   "metadata": {},
   "source": [
    "## Stage 2: Alternate Least Squares: Model Training and Evaluation"
   ]
  },
  {
   "cell_type": "markdown",
   "metadata": {},
   "source": [
    "### Splitting the Data as Testing , Training and Validation Sets. \n",
    "\n",
    "We will now split the data for building our recommendation system. We can use spark's `randomsplit()` transformation that uses given weights to split an rdd into any number of sub-RDDs. The standared usage of this transformation function is :\n",
    "\n",
    "> `RDD.randomSplit(weights, seed)`\n",
    "\n",
    "**weights** – weights for splits, will be normalized if they don’t sum to 1\n",
    "\n",
    "**seed** – random seed\n",
    "\n",
    "Perform following tasks:\n",
    "\n",
    "- Split the `ratingsRDD` into training, testing and validation RDDs (60%, 20%, 20%) using respective weights.\n",
    "- Perform a `.count` on resulting datasets to show the count of elements of each RDD. "
   ]
  },
  {
   "cell_type": "code",
   "execution_count": 43,
   "metadata": {},
   "outputs": [
    {
     "data": {
      "text/plain": [
       "(59702, 20160, 20142)"
      ]
     },
     "execution_count": 43,
     "metadata": {},
     "output_type": "execute_result"
    }
   ],
   "source": [
    "# Code here\n",
    "trainRatings, testRatings, valRatings = ratings.randomSplit([6,2,2],seed=200)\n",
    "trainRatings.count(),testRatings.count(),valRatings.count()"
   ]
  },
  {
   "cell_type": "markdown",
   "metadata": {},
   "source": [
    "For prediction of ratings, we would need `customerID` and `movieID` from validation and test RDDs respectively. \n",
    "\n",
    "- Map `customerID` and `movieID` from validation and test RDDs into two new RDDs which will be used for training and validation purpose. \n",
    "- Take 3 elements from both RDDs to inspect the results.\n",
    "\n",
    "For now , we shall ignore the `ratings` values for these RDDs, as these will be predicted later.  "
   ]
  },
  {
   "cell_type": "code",
   "execution_count": 45,
   "metadata": {},
   "outputs": [
    {
     "data": {
      "text/plain": [
       "([(1, 1129), (1, 2294), (1, 2968)], [(1, 1263), (1, 1343), (1, 1405)])"
      ]
     },
     "execution_count": 45,
     "metadata": {},
     "output_type": "execute_result"
    }
   ],
   "source": [
    "# Code here\n",
    "valFeatures = valRatings.map(lambda x: (x[0],x[1]))\n",
    "testFeatures = testRatings.map(lambda x: (x[0],x[1]))\n",
    "valFeatures.take(3),testFeatures.take(3)"
   ]
  },
  {
   "cell_type": "markdown",
   "metadata": {},
   "source": [
    "We will use the `validFeaturesRDD` during the training process to avoid the model from overfitting (getting stuck into a local minima) and the `testFeaturesRDD` with trained model to measure its predictive performance. Good old supervised learning. "
   ]
  },
  {
   "cell_type": "markdown",
   "metadata": {},
   "source": [
    "### Collaborative Filtering and Alternate Least Squares in Spark\n",
    "\n",
    "Spark MLlib library for Machine Learning provides a Collaborative Filtering implementation by using Alternating Least Squares (ALS) algorithm.\n",
    "\n",
    "`spark.mllib` currently supports model-based collaborative filtering, in which users and products are described by a small set of latent factors that can be used to predict missing entries. `spark.mllib` uses the alternating least squares (ALS) algorithm to learn these latent factors. \n",
    "\n",
    "We shall work with following hyper-parameters and set their values prior to the actual training process:\n",
    "\n",
    "* `rank` : Number of hidden/latent factors in the model. **(use the list [2,4,6,8,10] as possible rank values)**\n",
    "* `iterations` : Number of iterations to run. **(set to 10)**\n",
    "* `lambda` :  Regularization parameter in ALS.**(set to 0.1)**\n",
    "\n",
    "Spark offers a lot of other parameters for detailed and indepth fine tuning of the algorithm. Details on spark's ALS implementation can be viewed [HERE](https://spark.apache.org/docs/2.2.0/mllib-collaborative-filtering.html). For now, we will use default values for all the other hyper parameters. \n",
    "\n",
    "- Import ALS from `mllib` along with `math` module (for calculating `RMSE`) and set our learning parameters. \n",
    "- Import the ALS algorithm and set parameters as shown above. \n",
    "- For the initial experiment, use `iterations = 10`, `lambda = 0.1` and run a grid for identifying best value for `rank`.\n",
    "\n",
    "> **Note**: You may decide to run a larger grid with other model parameters after setting up the codebase."
   ]
  },
  {
   "cell_type": "code",
   "execution_count": 46,
   "metadata": {},
   "outputs": [],
   "source": [
    "# Code here\n",
    "from pyspark.mllib.recommendation import ALS\n",
    "import math"
   ]
  },
  {
   "cell_type": "code",
   "execution_count": 56,
   "metadata": {},
   "outputs": [],
   "source": [
    "seed = 500\n",
    "iterations = 10\n",
    "lambdaParam = 0.1\n",
    "ranks = [2, 4, 6, 8, 10]\n",
    "errors = [0, 0, 0, 0, 0] # initialize a matrix for storing error values for selected ranks\n",
    "errIter = 0 # iterator for above list \n",
    "\n",
    "minError = float('inf')\n",
    "bestRank = -1 \n",
    "bestIteration = -1"
   ]
  },
  {
   "cell_type": "markdown",
   "metadata": {},
   "source": [
    "### Model Training and Validation with hyper-parameter optimization\n",
    "\n",
    "We can now start our training process using above parameter values which would include following steps: \n",
    "\n",
    "* Run the training for each of the rank values in our `ranks` list inside a for loop.\n",
    "* Train the model using trainRDD, ranksVal, seed, numIterations and lambdaRegParam value as model parameters. \n",
    "* Validate the trained model by predicting ratings for `validFeaturesRDD` using `ALS.predictAll()`.\n",
    "* Compare predicted ratings to actual ratings by joining generated predictions with `validRDD`. \n",
    "* Calculate error as RMSE for each rank. \n",
    "* Find the best rank value based on RMSE\n",
    "\n",
    "For sake of simplicity, we shall repeat training process for changing ranks value **only**. Other values can also be changed as a detailed grid search for improved predictive performance. "
   ]
  },
  {
   "cell_type": "code",
   "execution_count": 57,
   "metadata": {},
   "outputs": [
    {
     "name": "stdout",
     "output_type": "stream",
     "text": [
      "For Rank = 2 , the RMSE value is: 0.9289581787940366\n",
      "For Rank = 4 , the RMSE value is: 0.9431621420078349\n",
      "For Rank = 6 , the RMSE value is: 0.9461851517324533\n",
      "For Rank = 8 , the RMSE value is: 0.9627489662992729\n",
      "For Rank = 10 , the RMSE value is: 0.9550287795222608\n",
      "The best model was trained with Rank = 2\n"
     ]
    }
   ],
   "source": [
    "# Code here\n",
    "for rank in ranks:\n",
    "    model = ALS.train(trainRatings, \n",
    "                              rank = rank, \n",
    "                              seed = seed, \n",
    "                              iterations = iterations,\n",
    "                              lambda_ = lambdaParam)\n",
    "    predictions = model.predictAll(valFeatures).map(lambda p: ((p[0], p[1]), p[2]))\n",
    "    validPlusPreds = valRatings.map(lambda p: ((int(p[0]), int(p[1])), float(p[2]))).join(predictions)\n",
    "    \n",
    "    error = math.sqrt(validPlusPreds.map(lambda p: (p[1][0] - p[1][1])**2).mean())\n",
    "    try:\n",
    "        errors[errIter] = error\n",
    "        errIter += 1\n",
    "    except:\n",
    "        pass\n",
    "    print ('For Rank = %s , the RMSE value is: %s' % (rank, error))\n",
    "    \n",
    "    if error < minError:\n",
    "        minError = error\n",
    "        bestRank = rank\n",
    "print ('The best model was trained with Rank = %s' % bestRank)"
   ]
  },
  {
   "cell_type": "markdown",
   "metadata": {},
   "source": [
    "### Analyzing the Predictions\n",
    "\n",
    "- Have a look at the format of predictions the model generated during last validation stage. "
   ]
  },
  {
   "cell_type": "code",
   "execution_count": 58,
   "metadata": {},
   "outputs": [
    {
     "data": {
      "text/plain": [
       "[((624, 69069), 2.796391290597069),\n",
       " ((70, 667), 3.1206129582686963),\n",
       " ((140, 5618), 3.43324154224931)]"
      ]
     },
     "execution_count": 58,
     "metadata": {},
     "output_type": "execute_result"
    }
   ],
   "source": [
    "# Code here\n",
    "predictions.take(3)"
   ]
  },
  {
   "cell_type": "markdown",
   "metadata": {},
   "source": [
    "The output shows we have the `((UserID,  MovieID), Rating)` tuple, similar to the ratings dataset. The `Ratings` field in the predictions RDD refers to the ratings predicted by the trained ALS model. \n",
    "\n",
    "Above code joins these predictions with our validation data\n",
    "- take 3 elements from the validPlusPreds"
   ]
  },
  {
   "cell_type": "code",
   "execution_count": 59,
   "metadata": {},
   "outputs": [
    {
     "data": {
      "text/plain": [
       "[((1, 1129), (2.0, 2.76646591594508)),\n",
       " ((2, 168), (3.0, 3.065306498782824)),\n",
       " ((2, 186), (3.0, 2.9351116503780417))]"
      ]
     },
     "execution_count": 59,
     "metadata": {},
     "output_type": "execute_result"
    }
   ],
   "source": [
    "# Code here\n",
    "validPlusPreds.take(3)"
   ]
  },
  {
   "cell_type": "markdown",
   "metadata": {},
   "source": [
    "This output shows the format `((UserId, MovieId), Ratings, PredictedRatings)`. \n",
    "\n",
    "We calculated the RMSE by taking the squred difference and calculating the mean value as our `error` value.\n",
    "\n",
    "### Testing the Model\n",
    "\n",
    "We shall now test the model with test dataset that has been kept away from the learning phase upto this point. \n",
    "Use following parameters:\n",
    "\n",
    "* Use `trainRDD` for training the model.\n",
    "* Use `bestRank` value learnt during the validation phase.\n",
    "* Use other parameter values same as above. \n",
    "* Generate predictions with `testFeaturesRDD`\n",
    "* Calculate error between predicted values and ground truth as above."
   ]
  },
  {
   "cell_type": "code",
   "execution_count": 63,
   "metadata": {},
   "outputs": [
    {
     "name": "stdout",
     "output_type": "stream",
     "text": [
      "RMSE is: 0.9330471538259933\n"
     ]
    }
   ],
   "source": [
    "# Code here\n",
    "model = ALS.train(trainRatings, \n",
    "                              rank = bestRank, \n",
    "                              seed = seed, \n",
    "                              iterations = iterations,\n",
    "                              lambda_ = lambdaParam)\n",
    "predictionsTest = model.predictAll(testFeatures).map(lambda p: ((p[0], p[1]), p[2]))\n",
    "testPlusPreds = testRatings.map(lambda p: ((int(p[0]), int(p[1])), float(p[2]))).join(predictionsTest)\n",
    "print('RMSE is: ' + str(math.sqrt(testPlusPreds.map(lambda p: (p[1][0] - p[1][1])**2).mean())))"
   ]
  },
  {
   "cell_type": "markdown",
   "metadata": {},
   "source": [
    "This doesnt look so bad. Remember due to probablistic nature of ALS algorithm, changing the seed value will also show somen fluctuations in RMSE. "
   ]
  },
  {
   "cell_type": "markdown",
   "metadata": {},
   "source": [
    "## Stage 3: Making Recommendations\n",
    "\n",
    "For making recommendations using collaborative filtering, we re-train the model including the new user preferences in order to compare them with other users in the dataset. In simple terms, the system needs to be trained every time we have new user ratings. Once we have our model trained, we can reuse it to obtain top recomendations for a given user or an individual rating for a particular movie. "
   ]
  },
  {
   "cell_type": "markdown",
   "metadata": {},
   "source": [
    "First we need to count the number of ratings per movie. We can create a function that inputs the movies RDD created earlier  and calculates total number of ratings. Based on this, we can later define a threshold ratings value to only include movies with a minimum count of ratings. \n",
    "\n",
    "Create a function `getRatingCount()` to do following:\n",
    "\n",
    "* Input the ratings RDD (grouped by movies)\n",
    "* Count the total number of rating for a given movie ID\n",
    "* Return the movie id and total number of ratings as a tuple. \n",
    "\n",
    "\n",
    "Perform following tasks in the given sequence: \n",
    "\n",
    "* Use `ratingsRDD` to get movie ID and ratings values, and `groupby()` movie ID to group all ratings for each movie\n",
    "* Pass the new RDD to the function above to count the number of ratings for all movies\n",
    "* create a new RDD `movieRatingsCountsRDD` to carry movie rating and count as a tuple\n",
    "* take 5 elements for inspection\n"
   ]
  },
  {
   "cell_type": "code",
   "execution_count": 64,
   "metadata": {},
   "outputs": [
    {
     "data": {
      "text/plain": [
       "[(31, 42), (1029, 42), (1061, 33), (1129, 48), (1172, 46)]"
      ]
     },
     "execution_count": 64,
     "metadata": {},
     "output_type": "execute_result"
    }
   ],
   "source": [
    "# Code here\n",
    "def getRatingCount(IDRatings):\n",
    "    ratingsCount = len(IDRatings[1])\n",
    "    return IDRatings[0], ratingsCount\n",
    "movieRatingsCounts = ratings.map(lambda x: (x[1], x[2])).groupByKey().map(getRatingCount)\n",
    "movieRatingsCounts.take(5)"
   ]
  },
  {
   "cell_type": "markdown",
   "metadata": {},
   "source": [
    "### Adding New User(s) and Rating(s)\n",
    "\n",
    "In order to make recommendations, we now need to create a new user and generate some initial set of ratings for collaborative filtering to work. First let's create a new user with a unique id , say 0, as its not currently used and would be easily identifiable later. \n",
    "\n"
   ]
  },
  {
   "cell_type": "code",
   "execution_count": 65,
   "metadata": {},
   "outputs": [],
   "source": [
    "newUserID = 0"
   ]
  },
  {
   "cell_type": "markdown",
   "metadata": {},
   "source": [
    "Now we need to rate some movies under this user. You are encouraged to look into movies RDD to set some ratings for the movies based on your own preferences. That would give you a good chance to qualitatively assess the the outcome for this system. \n",
    "\n",
    "For this experiment, lets create some rating values for our new user who likes comedy, family and romantic movies. You can add or omit other ratings too. \n",
    "\n",
    "    18\t    Four Rooms (1995)\tComedy\n",
    "    60074\tHancock (2008)\tAction|Adventure|Comedy|Crime|Fantasy\n",
    "    19\t    Ace Ventura: When Nature Calls (1995)\tComedy\n",
    "    203\t    To Wong Foo, Thanks for Everything! Julie Newmar (1995)\tComedy\n",
    "    205\t    Unstrung Heroes (1995)\tComedy|Drama\n",
    "    8784\tGarden State (2004)\tComedy|Drama|Romance\n",
    "    55830\tBe Kind Rewind (2008)\tComedy\n",
    "    56176\tAlvin and the Chipmunks (2007)\tChildren|Comedy\n",
    "    63393\tCamp Rock (2008)\tComedy|Musical|Romance\n",
    "    64622\tReader, The (2008)\tDrama|Romance\n",
    "    65088\tBedtime Stories (2008)\tAdventure|Children|Comedy\n",
    "    78499\tToy Story 3 (2010)\tAdventure|Animation|Children|Comedy|Fantasy|IMAX\n",
    "\n",
    "We will put these ratings in a new RDD use the user ID = -1 to create a (userID, movieID, rating) tuple.\n"
   ]
  },
  {
   "cell_type": "code",
   "execution_count": 66,
   "metadata": {
    "scrolled": true
   },
   "outputs": [],
   "source": [
    "# Based on above, create an RDD containing (userID, movieID, rating) tuple\n",
    "newUserRating = [(0,18,4),\n",
    "                 (0,60074,5),\n",
    "                 (0,19,4),\n",
    "                 (0,203,3),\n",
    "                 (0,205,4),\n",
    "                 (0,8784,5),\n",
    "                 (0,55830,3),\n",
    "                 (0,63393,4),\n",
    "                 (0,64622,5) ,\n",
    "                 (0,78499,5)]\n",
    "\n",
    "newUser = sc.parallelize(newUserRating)"
   ]
  },
  {
   "cell_type": "markdown",
   "metadata": {},
   "source": [
    "This looks great. We can now combine the `newUserRDD` with `moviesRDD` using a `.union()` transformation to make it a part of MovieLense dataset. Its always a good idea to check the results with `.take()`. "
   ]
  },
  {
   "cell_type": "code",
   "execution_count": 67,
   "metadata": {},
   "outputs": [
    {
     "data": {
      "text/plain": [
       "[(1, 31, 2.5), (1, 1029, 3.0), (1, 1061, 3.0)]"
      ]
     },
     "execution_count": 67,
     "metadata": {},
     "output_type": "execute_result"
    }
   ],
   "source": [
    "# Code here\n",
    "dataWithNewUser = ratings.union(newUser)\n",
    "dataWithNewUser.take(3)\n"
   ]
  },
  {
   "cell_type": "markdown",
   "metadata": {},
   "source": [
    "Now we can train the ALS model again, using all the parameters we selected before)."
   ]
  },
  {
   "cell_type": "code",
   "execution_count": 68,
   "metadata": {},
   "outputs": [],
   "source": [
    "# Code here\n",
    "modelNew  = ALS.train(dataWithNewUser, \n",
    "                              rank = bestRank, \n",
    "                              seed=seed, \n",
    "                              iterations=iterations, \n",
    "                              lambda_= lambdaRegParam)"
   ]
  },
  {
   "cell_type": "markdown",
   "metadata": {},
   "source": [
    "We shall need to repeat that every time a user adds new ratings. Ideally we will do this in batches, and not for every single rating that comes into the system for every user."
   ]
  },
  {
   "cell_type": "markdown",
   "metadata": {},
   "source": [
    "### Getting Top Recomendations\n",
    "\n",
    "After traning the model with our new user and ratings, we can finally get some recommendations. For that we will make an RDD with all the movies the new user hasn't rated yet.\n",
    "\n",
    "For this stage, perform following transformations:\n",
    "* Create a `moviesTitles` RDD with tuples as (id, title) from `moviesRDD`. Confirm the output.\n",
    "* Make an RDD to just the IDs of the movies rated by the new user above in `newUserRating`. \n",
    "* Filter the `moviesRDD` into a new RDD `newUserUnratedRDD` to only contain those movies not rated by the user.\n",
    "* Use `newUserUnratedRDD` and predict the ratings."
   ]
  },
  {
   "cell_type": "code",
   "execution_count": 69,
   "metadata": {},
   "outputs": [
    {
     "data": {
      "text/plain": [
       "[(1, 'Toy Story (1995)'),\n",
       " (2, 'Jumanji (1995)'),\n",
       " (3, 'Grumpier Old Men (1995)')]"
      ]
     },
     "execution_count": 69,
     "metadata": {},
     "output_type": "execute_result"
    }
   ],
   "source": [
    "# Code here\n",
    "moviesTitles = movies.map(lambda x: (int(x[0]),x[1]))\n",
    "moviesTitles.take(3)"
   ]
  },
  {
   "cell_type": "code",
   "execution_count": 72,
   "metadata": {},
   "outputs": [
    {
     "data": {
      "text/plain": [
       "[Rating(user=0, product=37739, rating=4.409561327443813),\n",
       " Rating(user=0, product=142192, rating=3.348429419520933),\n",
       " Rating(user=0, product=69069, rating=4.74908518246428)]"
      ]
     },
     "execution_count": 72,
     "metadata": {},
     "output_type": "execute_result"
    }
   ],
   "source": [
    "# Code here\n",
    "# Get just movie IDs for new user rated movies\n",
    "newUserRatingsIds = map(lambda x: x[1], newUserRating) \n",
    "\n",
    "# Filter out complete movies RDD \n",
    "newUserUnratedRDD = (movies.filter(lambda x: x[0] not in newUserRatingsIds).map(lambda x: (newUserID, x[0])))\n",
    "\n",
    "# Use the input RDD, new_user_unrated_movies_RDD, with new_ratings_model.predictAll() to predict new ratings for the movies\n",
    "newRecRDD = modelNew.predictAll(newUserUnratedRDD)\n",
    "\n",
    "newRecRDD.take(3)"
   ]
  },
  {
   "cell_type": "markdown",
   "metadata": {},
   "source": [
    "This new recommendation RDD `newRecRDD` now carries the predicted recommendations for new user. Now we can now look at top x number of movies with the highest predicted ratings and join these with the movies RDD to get the titles, and ratings count to make the results more meaningful. \n",
    "\n",
    "For this you need to perform following tasks:\n",
    "\n",
    "* Map `newRecRDD` to build a (movie, ratings) tuple for each entry as `newRecRatingRDD`\n",
    "* Use `.join()` transformation sequentially to to join `newRecRatingRDD` to `moviesTitles` and to `movieRatingsCountsRDD` to create \n",
    "\n",
    "A good resource on PySpark `.join()` is available at [THIS](http://www.learnbymarketing.com/1100/pyspark-joins-by-example/) resource."
   ]
  },
  {
   "cell_type": "code",
   "execution_count": 74,
   "metadata": {},
   "outputs": [],
   "source": [
    "# Code here\n",
    "newRecRatingRDD = newRecRDD.map(lambda x: (x.product, x.rating))\n",
    "newRecRatingTitleCountRDD = newRecRatingRDD.join(moviesTitles).join(movieRatingsCounts)"
   ]
  },
  {
   "cell_type": "markdown",
   "metadata": {},
   "source": [
    "We can now simplify the the above to only include **(title, ratings, count)** and transform as a new RDD containing new ratings for unrated movies."
   ]
  },
  {
   "cell_type": "code",
   "execution_count": 75,
   "metadata": {},
   "outputs": [
    {
     "data": {
      "text/plain": [
       "[('Rubber (2010)', 4.677853632654724, 1),\n",
       " ('Kate & Leopold (2001)', 4.58198704876763, 10),\n",
       " ('\"Siege', 4.27845599256427, 16)]"
      ]
     },
     "execution_count": 75,
     "metadata": {},
     "output_type": "execute_result"
    }
   ],
   "source": [
    "# Code here\n",
    "newRecRatingTitleCountFlatRDD = newRecRatingTitleCountRDD.map(lambda r: (r[1][0][1], r[1][0][0], r[1][1]))\n",
    "newRecRatingTitleCountFlatRDD.take(3)"
   ]
  },
  {
   "cell_type": "markdown",
   "metadata": {},
   "source": [
    "FINALLY, we can get highest rated recommended movies for the new user, filtering out movies with less than 50 ratings (try changing this value).\n",
    "For this we need to do following: \n",
    "\n",
    "* Use `.filter()` to include only the movies with more than 50 ratings.\n",
    "* Use `.takeordered()` to get top 10 recommendations"
   ]
  },
  {
   "cell_type": "code",
   "execution_count": 77,
   "metadata": {},
   "outputs": [
    {
     "name": "stdout",
     "output_type": "stream",
     "text": [
      "TOP recommended movies (with more than 50 reviews):\n",
      "('\"Lord of the Rings: The Return of the King', 5.43193489557752, 176)\n",
      "('\"Shawshank Redemption', 5.421302815561621, 311)\n",
      "('Life Is Beautiful (La Vita è bella) (1997)', 5.32921373025175, 99)\n",
      "('To Kill a Mockingbird (1962)', 5.271840206257398, 80)\n",
      "('\"Lord of the Rings: The Two Towers', 5.270964795616836, 188)\n",
      "('Harry Potter and the Goblet of Fire (2005)', 5.234257620475886, 59)\n",
      "('Gladiator (2000)', 5.216978605187376, 161)\n",
      "('\"Dark Knight', 5.215975989082537, 121)\n",
      "('\"Lord of the Rings: The Fellowship of the Ring', 5.181898240172382, 200)\n",
      "('\"Lock', 5.181815189163409, 74)\n"
     ]
    }
   ],
   "source": [
    "# Code here\n",
    "recommendations = newRecRatingTitleCountFlatRDD.filter(lambda x: x[2]>=50)\n",
    "top10MoviesOrdered = recommendations.takeOrdered(10, key=lambda y: -y[1])\n",
    "\n",
    "print ('TOP recommended movies (with more than 50 reviews):\\n%s' %\n",
    "        '\\n'.join(map(str, top10MoviesOrdered)))"
   ]
  },
  {
   "cell_type": "markdown",
   "metadata": {},
   "source": [
    "Similarly, we can also check bottom 10 movies with lowest ratings with `.takeOrdered()`"
   ]
  },
  {
   "cell_type": "code",
   "execution_count": 78,
   "metadata": {},
   "outputs": [
    {
     "name": "stdout",
     "output_type": "stream",
     "text": [
      "Lowest recommended movies (with more than 50 reviews):\n",
      "('\"Cable Guy', 2.818825824040246, 59)\n",
      "('\"Blair Witch Project', 2.927431548859694, 86)\n",
      "('Judge Dredd (1995)', 3.007265324895222, 70)\n",
      "('Coneheads (1993)', 3.0383864093063018, 55)\n",
      "('Bowfinger (1999)', 3.072113585498421, 51)\n",
      "('Congo (1995)', 3.08657401179308, 63)\n",
      "('Annie Hall (1977)', 3.1184840932911086, 80)\n",
      "(\"Muriel's Wedding (1994)\", 3.125778599638167, 56)\n",
      "('Space Jam (1996)', 3.157511975071408, 50)\n",
      "('American Psycho (2000)', 3.217647614386408, 51)\n"
     ]
    }
   ],
   "source": [
    "# Code here\n",
    "bottom10MoviesOrdered = recommendations.takeOrdered(10, key=lambda y: y[1])\n",
    "\n",
    "print ('Lowest recommended movies (with more than 50 reviews):\\n%s' %\n",
    "        '\\n'.join(map(str, bottom10MoviesOrdered)))"
   ]
  },
  {
   "cell_type": "markdown",
   "metadata": {},
   "source": [
    "So here we have it. Our recommendation system is generating quite meaningful results with top 10 movies. A qualitative and subjective assessment shows top 10 movies are generally with a comedy/family/romance themes while the bottom 10 movies include some sci-fi/horror/action movies. \n",
    "\n",
    "## Next Steps\n",
    "\n",
    "* Run the hyperparameter selection section again trying different values for the lambda regulizer. Use a nested for loop to try different values for Rank and Lambda. Inspect any improvement in accuracy. \n",
    "\n",
    "\n",
    "* Include other features in your recommender e.g. Genres and tags (Needs dummy variables), IMDB ratings etc.\n",
    "\n",
    "\n",
    "* **Remember these results are only based on a subset of data. Run the code with complete dataset in a similar fashion and discuss the improvement and predictive performance through RMSE, as well as subjective evaluations based on your personal preferences / taste in movies.**\n",
    "\n",
    "\n",
    "## Level up - Optional \n",
    "\n",
    "* Use IMDB links to scrap user reviews from IMDB and using basic NLP techniques (word2vec), create extra embeddings for ALS model. \n"
   ]
  },
  {
   "cell_type": "markdown",
   "metadata": {},
   "source": [
    "## Summary\n",
    "\n",
    "In this lab, we learnt how to build a model using Spark, how to perform some parameter selection using a reduced dataset, and how to update the model every time that new user preferences come in. We looked at how Spark's ALS implementation can be be used to build a scalable and efficient reommendation system. We also saw that such systems can become computationaly expensive and using them with an online system could be a problem with traditional computational platforms. Spark's disctributed computing architecture provides a great solution to deploy such recommendation systems for real worls applications (think Amazon, Spotify)."
   ]
  }
 ],
 "metadata": {
  "kernelspec": {
   "display_name": "Python 3",
   "language": "python",
   "name": "python3"
  },
  "language_info": {
   "codemirror_mode": {
    "name": "ipython",
    "version": 3
   },
   "file_extension": ".py",
   "mimetype": "text/x-python",
   "name": "python",
   "nbconvert_exporter": "python",
   "pygments_lexer": "ipython3",
   "version": "3.6.7"
  }
 },
 "nbformat": 4,
 "nbformat_minor": 2
}
